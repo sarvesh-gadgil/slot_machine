{
 "cells": [
  {
   "cell_type": "markdown",
   "metadata": {},
   "source": [
    "### Purse class contains methods related to debit, credit and returning of balance. It also has a constructor which sets an initial balance of 10.00 whenever object of Purse class is created."
   ]
  },
  {
   "cell_type": "code",
   "execution_count": null,
   "metadata": {},
   "outputs": [],
   "source": [
    "class Purse:\n",
    "    def __init__(self):\n",
    "        \n",
    "        # Setting initial balance as 10.00\n",
    "        self.__balance = 10.00\n",
    "    \n",
    "    def debit(self, bet):\n",
    "        \n",
    "        # Decrementing the balance if there is Empty house\n",
    "        self.__balance -= bet\n",
    "    \n",
    "    def credit(self, bet):\n",
    "        \n",
    "        # Incrementing the balance accordingly for Half house or Full house\n",
    "        self.__balance += bet\n",
    "    \n",
    "    def get_balance(self): \n",
    "        \n",
    "        # Returns the current balance\n",
    "        return self.__balance"
   ]
  },
  {
   "cell_type": "markdown",
   "metadata": {},
   "source": [
    "### Slot class consits of methods related to operations of slot machine. It also has a constructor which creates different column instances viz. red apple, pear and tangerine for slot machine whenever object of Slot class is created. The methods inside the Slot class are as follows:\n",
    "#### 1) pull_handle: This method is invoked whenever a valid bet is entered by user. It generates a list of shuffled fruit faces by calling change_face method for each instance of fruit face.\n",
    "#### 2) show_slot: This method is called internally by pull_handle and prints the shuffled fruit faces.\n",
    "#### 3) take_bet: This method accepts a bet from user, checks its validity (by calling is_bet_valid method) and then calls the pull_handle method.\n",
    "#### 4) score_slot: This method is called internally by show_slot. It converts the list into set to check the uniqueness of the faces, then calls the credit and debit methods of Purse class accordingly.\n",
    "#### 5) is_bet_valid: This method checks if user has entered a numeric value or the bet is less than two or greater than balance. If either of the above condition is valid then false is returned. Else true is returned."
   ]
  },
  {
   "cell_type": "code",
   "execution_count": null,
   "metadata": {},
   "outputs": [],
   "source": [
    "class Slot:\n",
    "    def __init__(self):\n",
    "        \n",
    "        # Creating Column object for each fruit face\n",
    "        self.__apple_slot = Column(':red_apple:')\n",
    "        self.__pear_slot = Column(':pear:')\n",
    "        self.__tangerine_slot = Column(':tangerine:')\n",
    "    \n",
    "\n",
    "    def pull_handle(self, bet, purse):\n",
    "\n",
    "        # Creating shuffled faces list by calling change_face for each column (3 times)\n",
    "        shuffled_faces_list = []\n",
    "        shuffled_faces_list.append(self.__apple_slot.change_face())\n",
    "        shuffled_faces_list.append(self.__pear_slot.change_face())\n",
    "        shuffled_faces_list.append(self.__tangerine_slot.change_face())\n",
    "        \n",
    "        # Calling the show_slot method to display the shuffled faces\n",
    "        self.show_slot(shuffled_faces_list, bet, purse)\n",
    "    \n",
    " \n",
    "    def show_slot(self, shuffled_faces_list, bet, purse):\n",
    "        \n",
    "        # Printing the shuffled faces on console\n",
    "        for face in shuffled_faces_list:\n",
    "            print(face, \" \", end=\"\")\n",
    "        print()\n",
    "        \n",
    "        # Calling score_slot method for credit/debit operation\n",
    "        self.score_slot(shuffled_faces_list, bet, purse)\n",
    "    \n",
    " \n",
    "    def take_bet(self, purse):\n",
    "        \n",
    "        # Take input from user\n",
    "        bet = input(\"\\nHow much do you bet: \")\n",
    "        \n",
    "        # While loop executes until the value of bet is not 'n' \n",
    "        while bet.casefold() != 'n':\n",
    "            \n",
    "            # Checking if valid bet is placed\n",
    "            if self.is_bet_valid(bet, purse.get_balance()):\n",
    "                \"\"\"\n",
    "                If bet is valid then calling pull_handle method for \n",
    "                generating, shuffling and displaying faces on console\n",
    "                \"\"\" \n",
    "                self.pull_handle(bet, purse)\n",
    "                \n",
    "                # Breaking the loop if balance goes less than 2 as min bet is of 2\n",
    "                if purse.get_balance() < 2:\n",
    "                    break\n",
    "            else:\n",
    "                \n",
    "                # If bet is not valid then printing error message\n",
    "                print(\"Please enter a valid bet.\")\n",
    "            \n",
    "            # Again prompting the bet from user\n",
    "            bet = input(\"\\nHow much do you bet: \") \n",
    "        \n",
    "        # Printing the exit message\n",
    "        print(\"Thank you for playing.\")\n",
    "        print(\"You are leaving with %.2f\"%(purse.get_balance()))\n",
    "    \n",
    " \n",
    "    def score_slot(self, shuffled_faces_list, bet, purse):\n",
    "        \n",
    "        # Converting list to set for getting unique values\n",
    "        shuffled_faces_set = set(shuffled_faces_list)\n",
    "        shuffled_faces_set_length = len(shuffled_faces_set)\n",
    "        score = float(bet)\n",
    "        \n",
    "        if shuffled_faces_set_length == 3:\n",
    "            \n",
    "            \"\"\"\n",
    "            If length of set is 3 then all the three faces are different. \n",
    "            Hence calling the debit method and debiting from balance. \n",
    "            \"\"\"\n",
    "            purse.debit(score)\n",
    "            final_score = 0 \n",
    "        elif shuffled_faces_set_length == 2:\n",
    "            \n",
    "            \"\"\"\n",
    "            If length of set is 2 then two faces are same and one face is different. \n",
    "            Hence calling the credit method and crediting half amount of bet in balance. \n",
    "            \"\"\"\n",
    "            score = score / 2\n",
    "            purse.credit(score)\n",
    "            final_score = float(bet) + score\n",
    "        elif shuffled_faces_set_length == 1:\n",
    "            \n",
    "            \"\"\"\n",
    "            If length of set is 1 then all faces are unique. \n",
    "            Hence calling the credit method and crediting the full bet amount in balance. \n",
    "            \"\"\"\n",
    "            purse.credit(score)\n",
    "            final_score = float(bet) + score\n",
    "        print(\"Your score %.2f - You have %.2f\" %(final_score, purse.get_balance()))     \n",
    "    \n",
    " \n",
    "    def is_bet_valid(self, bet, balance):\n",
    "        \n",
    "        \"\"\"\n",
    "        This method checks if user has entered a numeric value or \n",
    "        the bet is less than two or greater than balance. If either of the above\n",
    "        condition is valid then false is returned. Else true is returned.\n",
    "        \"\"\"\n",
    "        if not bet.isdigit():\n",
    "            return False\n",
    "        elif float(bet) < 2 or float(bet) > balance:\n",
    "            return False\n",
    "        else:\n",
    "            return True"
   ]
  },
  {
   "cell_type": "markdown",
   "metadata": {},
   "source": [
    "### Column class represents each column of slot machine. It has a private class variable called faces which is a list. It also consists of a parameterised constructor which accepts fruit name as argument, generates fruit emoji for the same and adds it to faces list. It also has change_face method which is called by every instance of Column object to get a random fruit face from the faces list."
   ]
  },
  {
   "cell_type": "code",
   "execution_count": null,
   "metadata": {},
   "outputs": [],
   "source": [
    "import emoji\n",
    "from random import choice\n",
    "\n",
    "class Column:\n",
    "    \n",
    "    __faces = []\n",
    "    \n",
    "    # Generate fruit emoji faces\n",
    "    def __init__(self, name):\n",
    "            Column.__faces.append(emoji.emojize(name))\n",
    "    \n",
    "    # Returning a random choice from faces list\n",
    "    def change_face(self):\n",
    "        return choice(Column.__faces)"
   ]
  },
  {
   "cell_type": "markdown",
   "metadata": {},
   "source": [
    "### run_slot_machine method represents the starting point of the slot machine program. It initially creates a Purse class object (to set balance as 10.00), prints the required messages and creates a Slot object. After creating the Slot object, it calls the take_bet method and passes purse as an argument."
   ]
  },
  {
   "cell_type": "code",
   "execution_count": null,
   "metadata": {},
   "outputs": [],
   "source": [
    "def run_slot_machine():\n",
    "    \n",
    "    # Create purse object\n",
    "    purse = Purse()\n",
    "    \n",
    "    # Printing the initial messages\n",
    "    print(\"===================== SLOT MACHINE ======================\")\n",
    "    print(\"Minimum bet is 2. Type 'N' to exit.\")\n",
    "    print(\"you have %.2f\" %(purse.get_balance()))\n",
    "    \n",
    "    # Create slot object and call the take_bet method of Slot class\n",
    "    slot = Slot()\n",
    "    slot.take_bet(purse)"
   ]
  },
  {
   "cell_type": "markdown",
   "metadata": {},
   "source": [
    "### In this assignment, I have not used inheritance as there was no need of it. All the required object references are passed as function parameters wherever needed. I have kept balance, faces and every Column instance reference variable (__apple_slot, __pear_slot, __tangerine_slot) as private so that these should not be accessed directly. Also, faces is private class list variable which is logical as all 3 faces represents the slot machine. Moreover, I have added one more method in Slot class viz. is_bet_valid which is called everytime when bet is entered by user to check it's validity."
   ]
  },
  {
   "cell_type": "code",
   "execution_count": null,
   "metadata": {},
   "outputs": [],
   "source": [
    "run_slot_machine()"
   ]
  }
 ],
 "metadata": {
  "kernelspec": {
   "display_name": "Python 3",
   "language": "python",
   "name": "python3"
  },
  "language_info": {
   "codemirror_mode": {
    "name": "ipython",
    "version": 3
   },
   "file_extension": ".py",
   "mimetype": "text/x-python",
   "name": "python",
   "nbconvert_exporter": "python",
   "pygments_lexer": "ipython3",
   "version": "3.7.4"
  }
 },
 "nbformat": 4,
 "nbformat_minor": 2
}
